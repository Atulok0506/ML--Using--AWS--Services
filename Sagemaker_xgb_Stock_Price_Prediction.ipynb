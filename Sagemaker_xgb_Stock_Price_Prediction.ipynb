{
 "cells": [
  {
   "cell_type": "markdown",
   "id": "0c796368",
   "metadata": {},
   "source": [
    "##  Create S3 bucket using Boto3\n",
    "\n",
    "Boto 3 is the AWS Software Development Kit(SDK) for Python, which allows us to directly create, update and delete AWS resources from our Python scripts.\n",
    "\n",
    "Boto3 makes it easy to integrater our Python application library or script with AWS services including Amazon S3, Amazon EC2, Amazon DynamoDB and more."
   ]
  },
  {
   "cell_type": "code",
   "execution_count": 9,
   "id": "66460f58",
   "metadata": {},
   "outputs": [
    {
     "name": "stdout",
     "output_type": "stream",
     "text": [
      "S3 bucket has been created successfully \n"
     ]
    }
   ],
   "source": [
    "import boto3\n",
    "s3 = boto3.resource('s3')\n",
    "bucket_name = 'stockpricepredictionxgb'\n",
    "region = 'ap-south-1'  \n",
    "\n",
    "try:\n",
    "    s3.create_bucket(Bucket=bucket_name,\n",
    "                     CreateBucketConfiguration={\n",
    "                         'LocationConstraint': region\n",
    "                     })\n",
    "    print('S3 bucket has been created successfully ')\n",
    "except Exception as e:\n",
    "    print(\"S3 error: \", e)\n"
   ]
  },
  {
   "cell_type": "code",
   "execution_count": 10,
   "id": "eb0dde49",
   "metadata": {},
   "outputs": [
    {
     "name": "stdout",
     "output_type": "stream",
     "text": [
      "Collecting yfinance\n",
      "  Downloading yfinance-0.2.43-py2.py3-none-any.whl.metadata (11 kB)\n",
      "Requirement already satisfied: pandas>=1.3.0 in /home/ec2-user/anaconda3/envs/python3/lib/python3.10/site-packages (from yfinance) (2.2.2)\n",
      "Requirement already satisfied: numpy>=1.16.5 in /home/ec2-user/anaconda3/envs/python3/lib/python3.10/site-packages (from yfinance) (1.22.4)\n",
      "Requirement already satisfied: requests>=2.31 in /home/ec2-user/anaconda3/envs/python3/lib/python3.10/site-packages (from yfinance) (2.32.3)\n",
      "Collecting multitasking>=0.0.7 (from yfinance)\n",
      "  Downloading multitasking-0.0.11-py3-none-any.whl.metadata (5.5 kB)\n",
      "Collecting lxml>=4.9.1 (from yfinance)\n",
      "  Downloading lxml-5.3.0-cp310-cp310-manylinux_2_17_x86_64.manylinux2014_x86_64.whl.metadata (3.8 kB)\n",
      "Requirement already satisfied: platformdirs>=2.0.0 in /home/ec2-user/anaconda3/envs/python3/lib/python3.10/site-packages (from yfinance) (4.2.2)\n",
      "Requirement already satisfied: pytz>=2022.5 in /home/ec2-user/anaconda3/envs/python3/lib/python3.10/site-packages (from yfinance) (2024.1)\n",
      "Collecting frozendict>=2.3.4 (from yfinance)\n",
      "  Downloading frozendict-2.4.4-cp310-cp310-manylinux_2_17_x86_64.manylinux2014_x86_64.whl.metadata (23 kB)\n",
      "Collecting peewee>=3.16.2 (from yfinance)\n",
      "  Downloading peewee-3.17.6.tar.gz (3.0 MB)\n",
      "\u001b[2K     \u001b[90m━━━━━━━━━━━━━━━━━━━━━━━━━━━━━━━━━━━━━━━━\u001b[0m \u001b[32m3.0/3.0 MB\u001b[0m \u001b[31m67.0 MB/s\u001b[0m eta \u001b[36m0:00:00\u001b[0m:00:01\u001b[0m\n",
      "\u001b[?25h  Installing build dependencies ... \u001b[?25ldone\n",
      "\u001b[?25h  Getting requirements to build wheel ... \u001b[?25ldone\n",
      "\u001b[?25h  Preparing metadata (pyproject.toml) ... \u001b[?25ldone\n",
      "\u001b[?25hRequirement already satisfied: beautifulsoup4>=4.11.1 in /home/ec2-user/anaconda3/envs/python3/lib/python3.10/site-packages (from yfinance) (4.12.3)\n",
      "Collecting html5lib>=1.1 (from yfinance)\n",
      "  Downloading html5lib-1.1-py2.py3-none-any.whl.metadata (16 kB)\n",
      "Requirement already satisfied: soupsieve>1.2 in /home/ec2-user/anaconda3/envs/python3/lib/python3.10/site-packages (from beautifulsoup4>=4.11.1->yfinance) (2.5)\n",
      "Requirement already satisfied: six>=1.9 in /home/ec2-user/anaconda3/envs/python3/lib/python3.10/site-packages (from html5lib>=1.1->yfinance) (1.16.0)\n",
      "Requirement already satisfied: webencodings in /home/ec2-user/anaconda3/envs/python3/lib/python3.10/site-packages (from html5lib>=1.1->yfinance) (0.5.1)\n",
      "Requirement already satisfied: python-dateutil>=2.8.2 in /home/ec2-user/anaconda3/envs/python3/lib/python3.10/site-packages (from pandas>=1.3.0->yfinance) (2.9.0)\n",
      "Requirement already satisfied: tzdata>=2022.7 in /home/ec2-user/anaconda3/envs/python3/lib/python3.10/site-packages (from pandas>=1.3.0->yfinance) (2024.1)\n",
      "Requirement already satisfied: charset-normalizer<4,>=2 in /home/ec2-user/anaconda3/envs/python3/lib/python3.10/site-packages (from requests>=2.31->yfinance) (3.3.2)\n",
      "Requirement already satisfied: idna<4,>=2.5 in /home/ec2-user/anaconda3/envs/python3/lib/python3.10/site-packages (from requests>=2.31->yfinance) (3.7)\n",
      "Requirement already satisfied: urllib3<3,>=1.21.1 in /home/ec2-user/anaconda3/envs/python3/lib/python3.10/site-packages (from requests>=2.31->yfinance) (2.2.2)\n",
      "Requirement already satisfied: certifi>=2017.4.17 in /home/ec2-user/anaconda3/envs/python3/lib/python3.10/site-packages (from requests>=2.31->yfinance) (2024.7.4)\n",
      "Downloading yfinance-0.2.43-py2.py3-none-any.whl (84 kB)\n",
      "\u001b[2K   \u001b[90m━━━━━━━━━━━━━━━━━━━━━━━━━━━━━━━━━━━━━━━━\u001b[0m \u001b[32m84.6/84.6 kB\u001b[0m \u001b[31m16.1 MB/s\u001b[0m eta \u001b[36m0:00:00\u001b[0m\n",
      "\u001b[?25hDownloading frozendict-2.4.4-cp310-cp310-manylinux_2_17_x86_64.manylinux2014_x86_64.whl (117 kB)\n",
      "\u001b[2K   \u001b[90m━━━━━━━━━━━━━━━━━━━━━━━━━━━━━━━━━━━━━━━━\u001b[0m \u001b[32m117.3/117.3 kB\u001b[0m \u001b[31m22.8 MB/s\u001b[0m eta \u001b[36m0:00:00\u001b[0m\n",
      "\u001b[?25hDownloading html5lib-1.1-py2.py3-none-any.whl (112 kB)\n",
      "\u001b[2K   \u001b[90m━━━━━━━━━━━━━━━━━━━━━━━━━━━━━━━━━━━━━━━━\u001b[0m \u001b[32m112.2/112.2 kB\u001b[0m \u001b[31m19.2 MB/s\u001b[0m eta \u001b[36m0:00:00\u001b[0m\n",
      "\u001b[?25hDownloading lxml-5.3.0-cp310-cp310-manylinux_2_17_x86_64.manylinux2014_x86_64.whl (5.0 MB)\n",
      "\u001b[2K   \u001b[90m━━━━━━━━━━━━━━━━━━━━━━━━━━━━━━━━━━━━━━━━\u001b[0m \u001b[32m5.0/5.0 MB\u001b[0m \u001b[31m113.6 MB/s\u001b[0m eta \u001b[36m0:00:00\u001b[0m00:01\u001b[0m\n",
      "\u001b[?25hDownloading multitasking-0.0.11-py3-none-any.whl (8.5 kB)\n",
      "Building wheels for collected packages: peewee\n",
      "  Building wheel for peewee (pyproject.toml) ... \u001b[?25ldone\n",
      "\u001b[?25h  Created wheel for peewee: filename=peewee-3.17.6-cp310-cp310-linux_x86_64.whl size=279106 sha256=82ecbb6595163d6025e6a68689f4a3c30cb52a8f5c6d9366fc2348c366e8709d\n",
      "  Stored in directory: /home/ec2-user/.cache/pip/wheels/4b/b9/b0/83d6e258e8f963f5ff111a2cd8c483ca59372a86e6a2535212\n",
      "Successfully built peewee\n",
      "Installing collected packages: peewee, multitasking, lxml, html5lib, frozendict, yfinance\n",
      "Successfully installed frozendict-2.4.4 html5lib-1.1 lxml-5.3.0 multitasking-0.0.11 peewee-3.17.6 yfinance-0.2.43\n"
     ]
    }
   ],
   "source": [
    "!pip install yfinance"
   ]
  },
  {
   "cell_type": "code",
   "execution_count": 11,
   "id": "ea66564a",
   "metadata": {},
   "outputs": [],
   "source": [
    "import pandas as pd\n",
    "from datetime import datetime\n",
    "import yfinance as yf"
   ]
  },
  {
   "cell_type": "code",
   "execution_count": 12,
   "id": "c8b37394",
   "metadata": {},
   "outputs": [
    {
     "name": "stderr",
     "output_type": "stream",
     "text": [
      "[*********************100%***********************]  1 of 1 completed\n"
     ]
    },
    {
     "data": {
      "text/html": [
       "<div>\n",
       "<style scoped>\n",
       "    .dataframe tbody tr th:only-of-type {\n",
       "        vertical-align: middle;\n",
       "    }\n",
       "\n",
       "    .dataframe tbody tr th {\n",
       "        vertical-align: top;\n",
       "    }\n",
       "\n",
       "    .dataframe thead th {\n",
       "        text-align: right;\n",
       "    }\n",
       "</style>\n",
       "<table border=\"1\" class=\"dataframe\">\n",
       "  <thead>\n",
       "    <tr style=\"text-align: right;\">\n",
       "      <th></th>\n",
       "      <th>Date</th>\n",
       "      <th>Open</th>\n",
       "      <th>High</th>\n",
       "      <th>Low</th>\n",
       "      <th>Close</th>\n",
       "      <th>Adj Close</th>\n",
       "      <th>Volume</th>\n",
       "    </tr>\n",
       "  </thead>\n",
       "  <tbody>\n",
       "    <tr>\n",
       "      <th>0</th>\n",
       "      <td>2019-01-02</td>\n",
       "      <td>38.722500</td>\n",
       "      <td>39.712502</td>\n",
       "      <td>38.557499</td>\n",
       "      <td>39.480000</td>\n",
       "      <td>37.750095</td>\n",
       "      <td>148158800</td>\n",
       "    </tr>\n",
       "    <tr>\n",
       "      <th>1</th>\n",
       "      <td>2019-01-03</td>\n",
       "      <td>35.994999</td>\n",
       "      <td>36.430000</td>\n",
       "      <td>35.500000</td>\n",
       "      <td>35.547501</td>\n",
       "      <td>33.989899</td>\n",
       "      <td>365248800</td>\n",
       "    </tr>\n",
       "    <tr>\n",
       "      <th>2</th>\n",
       "      <td>2019-01-04</td>\n",
       "      <td>36.132500</td>\n",
       "      <td>37.137501</td>\n",
       "      <td>35.950001</td>\n",
       "      <td>37.064999</td>\n",
       "      <td>35.440903</td>\n",
       "      <td>234428400</td>\n",
       "    </tr>\n",
       "    <tr>\n",
       "      <th>3</th>\n",
       "      <td>2019-01-07</td>\n",
       "      <td>37.174999</td>\n",
       "      <td>37.207500</td>\n",
       "      <td>36.474998</td>\n",
       "      <td>36.982498</td>\n",
       "      <td>35.362015</td>\n",
       "      <td>219111200</td>\n",
       "    </tr>\n",
       "    <tr>\n",
       "      <th>4</th>\n",
       "      <td>2019-01-08</td>\n",
       "      <td>37.389999</td>\n",
       "      <td>37.955002</td>\n",
       "      <td>37.130001</td>\n",
       "      <td>37.687500</td>\n",
       "      <td>36.036125</td>\n",
       "      <td>164101200</td>\n",
       "    </tr>\n",
       "    <tr>\n",
       "      <th>...</th>\n",
       "      <td>...</td>\n",
       "      <td>...</td>\n",
       "      <td>...</td>\n",
       "      <td>...</td>\n",
       "      <td>...</td>\n",
       "      <td>...</td>\n",
       "      <td>...</td>\n",
       "    </tr>\n",
       "    <tr>\n",
       "      <th>500</th>\n",
       "      <td>2020-12-24</td>\n",
       "      <td>131.320007</td>\n",
       "      <td>133.460007</td>\n",
       "      <td>131.100006</td>\n",
       "      <td>131.970001</td>\n",
       "      <td>129.189529</td>\n",
       "      <td>54930100</td>\n",
       "    </tr>\n",
       "    <tr>\n",
       "      <th>501</th>\n",
       "      <td>2020-12-28</td>\n",
       "      <td>133.990005</td>\n",
       "      <td>137.339996</td>\n",
       "      <td>133.509995</td>\n",
       "      <td>136.690002</td>\n",
       "      <td>133.810059</td>\n",
       "      <td>124486200</td>\n",
       "    </tr>\n",
       "    <tr>\n",
       "      <th>502</th>\n",
       "      <td>2020-12-29</td>\n",
       "      <td>138.050003</td>\n",
       "      <td>138.789993</td>\n",
       "      <td>134.339996</td>\n",
       "      <td>134.869995</td>\n",
       "      <td>132.028397</td>\n",
       "      <td>121047300</td>\n",
       "    </tr>\n",
       "    <tr>\n",
       "      <th>503</th>\n",
       "      <td>2020-12-30</td>\n",
       "      <td>135.580002</td>\n",
       "      <td>135.990005</td>\n",
       "      <td>133.399994</td>\n",
       "      <td>133.720001</td>\n",
       "      <td>130.902634</td>\n",
       "      <td>96452100</td>\n",
       "    </tr>\n",
       "    <tr>\n",
       "      <th>504</th>\n",
       "      <td>2020-12-31</td>\n",
       "      <td>134.080002</td>\n",
       "      <td>134.740005</td>\n",
       "      <td>131.720001</td>\n",
       "      <td>132.690002</td>\n",
       "      <td>129.894333</td>\n",
       "      <td>99116600</td>\n",
       "    </tr>\n",
       "  </tbody>\n",
       "</table>\n",
       "<p>505 rows × 7 columns</p>\n",
       "</div>"
      ],
      "text/plain": [
       "          Date        Open        High         Low       Close   Adj Close  \\\n",
       "0   2019-01-02   38.722500   39.712502   38.557499   39.480000   37.750095   \n",
       "1   2019-01-03   35.994999   36.430000   35.500000   35.547501   33.989899   \n",
       "2   2019-01-04   36.132500   37.137501   35.950001   37.064999   35.440903   \n",
       "3   2019-01-07   37.174999   37.207500   36.474998   36.982498   35.362015   \n",
       "4   2019-01-08   37.389999   37.955002   37.130001   37.687500   36.036125   \n",
       "..         ...         ...         ...         ...         ...         ...   \n",
       "500 2020-12-24  131.320007  133.460007  131.100006  131.970001  129.189529   \n",
       "501 2020-12-28  133.990005  137.339996  133.509995  136.690002  133.810059   \n",
       "502 2020-12-29  138.050003  138.789993  134.339996  134.869995  132.028397   \n",
       "503 2020-12-30  135.580002  135.990005  133.399994  133.720001  130.902634   \n",
       "504 2020-12-31  134.080002  134.740005  131.720001  132.690002  129.894333   \n",
       "\n",
       "        Volume  \n",
       "0    148158800  \n",
       "1    365248800  \n",
       "2    234428400  \n",
       "3    219111200  \n",
       "4    164101200  \n",
       "..         ...  \n",
       "500   54930100  \n",
       "501  124486200  \n",
       "502  121047300  \n",
       "503   96452100  \n",
       "504   99116600  \n",
       "\n",
       "[505 rows x 7 columns]"
      ]
     },
     "execution_count": 12,
     "metadata": {},
     "output_type": "execute_result"
    }
   ],
   "source": [
    "start_date = datetime(2019, 1, 1)\n",
    "end_date = datetime(2021, 1, 1)\n",
    "\n",
    "df = yf.download('AAPL', start=start_date, end=end_date)\n",
    "\n",
    "df.reset_index(inplace=True)\n",
    "\n",
    "df"
   ]
  },
  {
   "cell_type": "code",
   "execution_count": 13,
   "id": "64e5b85a",
   "metadata": {},
   "outputs": [
    {
     "data": {
      "text/plain": [
       "(505, 7)"
      ]
     },
     "execution_count": 13,
     "metadata": {},
     "output_type": "execute_result"
    }
   ],
   "source": [
    "df.shape"
   ]
  },
  {
   "cell_type": "markdown",
   "id": "9e97cc26",
   "metadata": {},
   "source": [
    "# ELT"
   ]
  },
  {
   "cell_type": "code",
   "execution_count": 14,
   "id": "681a034c",
   "metadata": {},
   "outputs": [],
   "source": [
    "df.drop(axis=1, columns=['Adj Close'], inplace=True)\n",
    "df.drop(axis=1, columns=['Date'], inplace=True)"
   ]
  },
  {
   "cell_type": "code",
   "execution_count": 15,
   "id": "4c7b7086",
   "metadata": {},
   "outputs": [
    {
     "data": {
      "text/html": [
       "<div>\n",
       "<style scoped>\n",
       "    .dataframe tbody tr th:only-of-type {\n",
       "        vertical-align: middle;\n",
       "    }\n",
       "\n",
       "    .dataframe tbody tr th {\n",
       "        vertical-align: top;\n",
       "    }\n",
       "\n",
       "    .dataframe thead th {\n",
       "        text-align: right;\n",
       "    }\n",
       "</style>\n",
       "<table border=\"1\" class=\"dataframe\">\n",
       "  <thead>\n",
       "    <tr style=\"text-align: right;\">\n",
       "      <th></th>\n",
       "      <th>Open</th>\n",
       "      <th>High</th>\n",
       "      <th>Low</th>\n",
       "      <th>Close</th>\n",
       "      <th>Volume</th>\n",
       "    </tr>\n",
       "  </thead>\n",
       "  <tbody>\n",
       "    <tr>\n",
       "      <th>0</th>\n",
       "      <td>38.722500</td>\n",
       "      <td>39.712502</td>\n",
       "      <td>38.557499</td>\n",
       "      <td>39.480000</td>\n",
       "      <td>148158800</td>\n",
       "    </tr>\n",
       "    <tr>\n",
       "      <th>1</th>\n",
       "      <td>35.994999</td>\n",
       "      <td>36.430000</td>\n",
       "      <td>35.500000</td>\n",
       "      <td>35.547501</td>\n",
       "      <td>365248800</td>\n",
       "    </tr>\n",
       "    <tr>\n",
       "      <th>2</th>\n",
       "      <td>36.132500</td>\n",
       "      <td>37.137501</td>\n",
       "      <td>35.950001</td>\n",
       "      <td>37.064999</td>\n",
       "      <td>234428400</td>\n",
       "    </tr>\n",
       "    <tr>\n",
       "      <th>3</th>\n",
       "      <td>37.174999</td>\n",
       "      <td>37.207500</td>\n",
       "      <td>36.474998</td>\n",
       "      <td>36.982498</td>\n",
       "      <td>219111200</td>\n",
       "    </tr>\n",
       "    <tr>\n",
       "      <th>4</th>\n",
       "      <td>37.389999</td>\n",
       "      <td>37.955002</td>\n",
       "      <td>37.130001</td>\n",
       "      <td>37.687500</td>\n",
       "      <td>164101200</td>\n",
       "    </tr>\n",
       "    <tr>\n",
       "      <th>...</th>\n",
       "      <td>...</td>\n",
       "      <td>...</td>\n",
       "      <td>...</td>\n",
       "      <td>...</td>\n",
       "      <td>...</td>\n",
       "    </tr>\n",
       "    <tr>\n",
       "      <th>499</th>\n",
       "      <td>132.160004</td>\n",
       "      <td>132.429993</td>\n",
       "      <td>130.779999</td>\n",
       "      <td>130.960007</td>\n",
       "      <td>88223700</td>\n",
       "    </tr>\n",
       "    <tr>\n",
       "      <th>500</th>\n",
       "      <td>131.320007</td>\n",
       "      <td>133.460007</td>\n",
       "      <td>131.100006</td>\n",
       "      <td>131.970001</td>\n",
       "      <td>54930100</td>\n",
       "    </tr>\n",
       "    <tr>\n",
       "      <th>501</th>\n",
       "      <td>133.990005</td>\n",
       "      <td>137.339996</td>\n",
       "      <td>133.509995</td>\n",
       "      <td>136.690002</td>\n",
       "      <td>124486200</td>\n",
       "    </tr>\n",
       "    <tr>\n",
       "      <th>502</th>\n",
       "      <td>138.050003</td>\n",
       "      <td>138.789993</td>\n",
       "      <td>134.339996</td>\n",
       "      <td>134.869995</td>\n",
       "      <td>121047300</td>\n",
       "    </tr>\n",
       "    <tr>\n",
       "      <th>503</th>\n",
       "      <td>135.580002</td>\n",
       "      <td>135.990005</td>\n",
       "      <td>133.399994</td>\n",
       "      <td>133.720001</td>\n",
       "      <td>96452100</td>\n",
       "    </tr>\n",
       "  </tbody>\n",
       "</table>\n",
       "<p>504 rows × 5 columns</p>\n",
       "</div>"
      ],
      "text/plain": [
       "           Open        High         Low       Close     Volume\n",
       "0     38.722500   39.712502   38.557499   39.480000  148158800\n",
       "1     35.994999   36.430000   35.500000   35.547501  365248800\n",
       "2     36.132500   37.137501   35.950001   37.064999  234428400\n",
       "3     37.174999   37.207500   36.474998   36.982498  219111200\n",
       "4     37.389999   37.955002   37.130001   37.687500  164101200\n",
       "..          ...         ...         ...         ...        ...\n",
       "499  132.160004  132.429993  130.779999  130.960007   88223700\n",
       "500  131.320007  133.460007  131.100006  131.970001   54930100\n",
       "501  133.990005  137.339996  133.509995  136.690002  124486200\n",
       "502  138.050003  138.789993  134.339996  134.869995  121047300\n",
       "503  135.580002  135.990005  133.399994  133.720001   96452100\n",
       "\n",
       "[504 rows x 5 columns]"
      ]
     },
     "execution_count": 15,
     "metadata": {},
     "output_type": "execute_result"
    }
   ],
   "source": [
    "df_features = df.iloc[:-1, :]\n",
    "df_features"
   ]
  },
  {
   "cell_type": "code",
   "execution_count": 16,
   "id": "d75ae906",
   "metadata": {},
   "outputs": [
    {
     "data": {
      "text/plain": [
       "1       35.994999\n",
       "2       36.132500\n",
       "3       37.174999\n",
       "4       37.389999\n",
       "5       37.822498\n",
       "          ...    \n",
       "500    131.320007\n",
       "501    133.990005\n",
       "502    138.050003\n",
       "503    135.580002\n",
       "504    134.080002\n",
       "Name: Targets, Length: 504, dtype: float64"
      ]
     },
     "execution_count": 16,
     "metadata": {},
     "output_type": "execute_result"
    }
   ],
   "source": [
    "df_targets = df.iloc[1:, 0].rename('Targets')\n",
    "df_targets"
   ]
  },
  {
   "cell_type": "code",
   "execution_count": 20,
   "id": "9785a1eb",
   "metadata": {},
   "outputs": [
    {
     "name": "stderr",
     "output_type": "stream",
     "text": [
      "/tmp/ipykernel_8109/3402416393.py:1: SettingWithCopyWarning: \n",
      "A value is trying to be set on a copy of a slice from a DataFrame.\n",
      "Try using .loc[row_indexer,col_indexer] = value instead\n",
      "\n",
      "See the caveats in the documentation: https://pandas.pydata.org/pandas-docs/stable/user_guide/indexing.html#returning-a-view-versus-a-copy\n",
      "  df_features['Target'] = list(df_targets)\n",
      "/tmp/ipykernel_8109/3402416393.py:7: SettingWithCopyWarning: \n",
      "A value is trying to be set on a copy of a slice from a DataFrame\n",
      "\n",
      "See the caveats in the documentation: https://pandas.pydata.org/pandas-docs/stable/user_guide/indexing.html#returning-a-view-versus-a-copy\n",
      "  df_final.drop('Targt', axis=1, inplace=True)\n"
     ]
    },
    {
     "data": {
      "text/html": [
       "<div>\n",
       "<style scoped>\n",
       "    .dataframe tbody tr th:only-of-type {\n",
       "        vertical-align: middle;\n",
       "    }\n",
       "\n",
       "    .dataframe tbody tr th {\n",
       "        vertical-align: top;\n",
       "    }\n",
       "\n",
       "    .dataframe thead th {\n",
       "        text-align: right;\n",
       "    }\n",
       "</style>\n",
       "<table border=\"1\" class=\"dataframe\">\n",
       "  <thead>\n",
       "    <tr style=\"text-align: right;\">\n",
       "      <th></th>\n",
       "      <th>Target</th>\n",
       "      <th>Open</th>\n",
       "      <th>High</th>\n",
       "      <th>Low</th>\n",
       "      <th>Close</th>\n",
       "      <th>Volume</th>\n",
       "    </tr>\n",
       "  </thead>\n",
       "  <tbody>\n",
       "    <tr>\n",
       "      <th>0</th>\n",
       "      <td>35.994999</td>\n",
       "      <td>38.722500</td>\n",
       "      <td>39.712502</td>\n",
       "      <td>38.557499</td>\n",
       "      <td>39.480000</td>\n",
       "      <td>148158800</td>\n",
       "    </tr>\n",
       "    <tr>\n",
       "      <th>1</th>\n",
       "      <td>36.132500</td>\n",
       "      <td>35.994999</td>\n",
       "      <td>36.430000</td>\n",
       "      <td>35.500000</td>\n",
       "      <td>35.547501</td>\n",
       "      <td>365248800</td>\n",
       "    </tr>\n",
       "    <tr>\n",
       "      <th>2</th>\n",
       "      <td>37.174999</td>\n",
       "      <td>36.132500</td>\n",
       "      <td>37.137501</td>\n",
       "      <td>35.950001</td>\n",
       "      <td>37.064999</td>\n",
       "      <td>234428400</td>\n",
       "    </tr>\n",
       "    <tr>\n",
       "      <th>3</th>\n",
       "      <td>37.389999</td>\n",
       "      <td>37.174999</td>\n",
       "      <td>37.207500</td>\n",
       "      <td>36.474998</td>\n",
       "      <td>36.982498</td>\n",
       "      <td>219111200</td>\n",
       "    </tr>\n",
       "    <tr>\n",
       "      <th>4</th>\n",
       "      <td>37.822498</td>\n",
       "      <td>37.389999</td>\n",
       "      <td>37.955002</td>\n",
       "      <td>37.130001</td>\n",
       "      <td>37.687500</td>\n",
       "      <td>164101200</td>\n",
       "    </tr>\n",
       "    <tr>\n",
       "      <th>...</th>\n",
       "      <td>...</td>\n",
       "      <td>...</td>\n",
       "      <td>...</td>\n",
       "      <td>...</td>\n",
       "      <td>...</td>\n",
       "      <td>...</td>\n",
       "    </tr>\n",
       "    <tr>\n",
       "      <th>499</th>\n",
       "      <td>131.320007</td>\n",
       "      <td>132.160004</td>\n",
       "      <td>132.429993</td>\n",
       "      <td>130.779999</td>\n",
       "      <td>130.960007</td>\n",
       "      <td>88223700</td>\n",
       "    </tr>\n",
       "    <tr>\n",
       "      <th>500</th>\n",
       "      <td>133.990005</td>\n",
       "      <td>131.320007</td>\n",
       "      <td>133.460007</td>\n",
       "      <td>131.100006</td>\n",
       "      <td>131.970001</td>\n",
       "      <td>54930100</td>\n",
       "    </tr>\n",
       "    <tr>\n",
       "      <th>501</th>\n",
       "      <td>138.050003</td>\n",
       "      <td>133.990005</td>\n",
       "      <td>137.339996</td>\n",
       "      <td>133.509995</td>\n",
       "      <td>136.690002</td>\n",
       "      <td>124486200</td>\n",
       "    </tr>\n",
       "    <tr>\n",
       "      <th>502</th>\n",
       "      <td>135.580002</td>\n",
       "      <td>138.050003</td>\n",
       "      <td>138.789993</td>\n",
       "      <td>134.339996</td>\n",
       "      <td>134.869995</td>\n",
       "      <td>121047300</td>\n",
       "    </tr>\n",
       "    <tr>\n",
       "      <th>503</th>\n",
       "      <td>134.080002</td>\n",
       "      <td>135.580002</td>\n",
       "      <td>135.990005</td>\n",
       "      <td>133.399994</td>\n",
       "      <td>133.720001</td>\n",
       "      <td>96452100</td>\n",
       "    </tr>\n",
       "  </tbody>\n",
       "</table>\n",
       "<p>504 rows × 6 columns</p>\n",
       "</div>"
      ],
      "text/plain": [
       "         Target        Open        High         Low       Close     Volume\n",
       "0     35.994999   38.722500   39.712502   38.557499   39.480000  148158800\n",
       "1     36.132500   35.994999   36.430000   35.500000   35.547501  365248800\n",
       "2     37.174999   36.132500   37.137501   35.950001   37.064999  234428400\n",
       "3     37.389999   37.174999   37.207500   36.474998   36.982498  219111200\n",
       "4     37.822498   37.389999   37.955002   37.130001   37.687500  164101200\n",
       "..          ...         ...         ...         ...         ...        ...\n",
       "499  131.320007  132.160004  132.429993  130.779999  130.960007   88223700\n",
       "500  133.990005  131.320007  133.460007  131.100006  131.970001   54930100\n",
       "501  138.050003  133.990005  137.339996  133.509995  136.690002  124486200\n",
       "502  135.580002  138.050003  138.789993  134.339996  134.869995  121047300\n",
       "503  134.080002  135.580002  135.990005  133.399994  133.720001   96452100\n",
       "\n",
       "[504 rows x 6 columns]"
      ]
     },
     "execution_count": 20,
     "metadata": {},
     "output_type": "execute_result"
    }
   ],
   "source": [
    "df_features['Target'] = list(df_targets)\n",
    "\n",
    "first_col = df_features.pop('Target')\n",
    "df_features.insert(0, 'Target', first_col)\n",
    "\n",
    "df_final = df_features\n",
    "df_final.drop('Targt', axis=1, inplace=True)\n",
    "df_final"
   ]
  },
  {
   "cell_type": "markdown",
   "id": "cb68eb3f",
   "metadata": {},
   "source": [
    "# Train_Test Split"
   ]
  },
  {
   "cell_type": "code",
   "execution_count": 21,
   "id": "ecc610a8",
   "metadata": {},
   "outputs": [
    {
     "data": {
      "text/html": [
       "<div>\n",
       "<style scoped>\n",
       "    .dataframe tbody tr th:only-of-type {\n",
       "        vertical-align: middle;\n",
       "    }\n",
       "\n",
       "    .dataframe tbody tr th {\n",
       "        vertical-align: top;\n",
       "    }\n",
       "\n",
       "    .dataframe thead th {\n",
       "        text-align: right;\n",
       "    }\n",
       "</style>\n",
       "<table border=\"1\" class=\"dataframe\">\n",
       "  <thead>\n",
       "    <tr style=\"text-align: right;\">\n",
       "      <th></th>\n",
       "      <th>Target</th>\n",
       "      <th>Open</th>\n",
       "      <th>High</th>\n",
       "      <th>Low</th>\n",
       "      <th>Close</th>\n",
       "      <th>Volume</th>\n",
       "    </tr>\n",
       "  </thead>\n",
       "  <tbody>\n",
       "    <tr>\n",
       "      <th>429</th>\n",
       "      <td>115.230003</td>\n",
       "      <td>118.330002</td>\n",
       "      <td>118.830002</td>\n",
       "      <td>113.610001</td>\n",
       "      <td>115.540001</td>\n",
       "      <td>184642000</td>\n",
       "    </tr>\n",
       "    <tr>\n",
       "      <th>282</th>\n",
       "      <td>78.839996</td>\n",
       "      <td>81.184998</td>\n",
       "      <td>81.495003</td>\n",
       "      <td>80.712502</td>\n",
       "      <td>81.237503</td>\n",
       "      <td>80113600</td>\n",
       "    </tr>\n",
       "    <tr>\n",
       "      <th>383</th>\n",
       "      <td>97.264999</td>\n",
       "      <td>95.334999</td>\n",
       "      <td>95.980003</td>\n",
       "      <td>94.705002</td>\n",
       "      <td>95.919998</td>\n",
       "      <td>90257200</td>\n",
       "    </tr>\n",
       "    <tr>\n",
       "      <th>477</th>\n",
       "      <td>117.180000</td>\n",
       "      <td>118.639999</td>\n",
       "      <td>118.769997</td>\n",
       "      <td>117.290001</td>\n",
       "      <td>117.339996</td>\n",
       "      <td>73604300</td>\n",
       "    </tr>\n",
       "    <tr>\n",
       "      <th>428</th>\n",
       "      <td>118.330002</td>\n",
       "      <td>114.720001</td>\n",
       "      <td>115.930000</td>\n",
       "      <td>112.800003</td>\n",
       "      <td>115.360001</td>\n",
       "      <td>140150100</td>\n",
       "    </tr>\n",
       "    <tr>\n",
       "      <th>...</th>\n",
       "      <td>...</td>\n",
       "      <td>...</td>\n",
       "      <td>...</td>\n",
       "      <td>...</td>\n",
       "      <td>...</td>\n",
       "      <td>...</td>\n",
       "    </tr>\n",
       "    <tr>\n",
       "      <th>98</th>\n",
       "      <td>45.049999</td>\n",
       "      <td>44.950001</td>\n",
       "      <td>45.134998</td>\n",
       "      <td>44.452499</td>\n",
       "      <td>44.915001</td>\n",
       "      <td>146118800</td>\n",
       "    </tr>\n",
       "    <tr>\n",
       "      <th>476</th>\n",
       "      <td>118.639999</td>\n",
       "      <td>117.589996</td>\n",
       "      <td>119.059998</td>\n",
       "      <td>116.809998</td>\n",
       "      <td>118.639999</td>\n",
       "      <td>74113000</td>\n",
       "    </tr>\n",
       "    <tr>\n",
       "      <th>322</th>\n",
       "      <td>70.599998</td>\n",
       "      <td>70.000000</td>\n",
       "      <td>72.062500</td>\n",
       "      <td>69.512497</td>\n",
       "      <td>71.762497</td>\n",
       "      <td>194994800</td>\n",
       "    </tr>\n",
       "    <tr>\n",
       "      <th>382</th>\n",
       "      <td>95.334999</td>\n",
       "      <td>96.262497</td>\n",
       "      <td>96.317497</td>\n",
       "      <td>94.672501</td>\n",
       "      <td>95.752502</td>\n",
       "      <td>125642800</td>\n",
       "    </tr>\n",
       "    <tr>\n",
       "      <th>365</th>\n",
       "      <td>87.864998</td>\n",
       "      <td>83.312500</td>\n",
       "      <td>86.419998</td>\n",
       "      <td>83.144997</td>\n",
       "      <td>85.747498</td>\n",
       "      <td>138808800</td>\n",
       "    </tr>\n",
       "  </tbody>\n",
       "</table>\n",
       "<p>504 rows × 6 columns</p>\n",
       "</div>"
      ],
      "text/plain": [
       "         Target        Open        High         Low       Close     Volume\n",
       "429  115.230003  118.330002  118.830002  113.610001  115.540001  184642000\n",
       "282   78.839996   81.184998   81.495003   80.712502   81.237503   80113600\n",
       "383   97.264999   95.334999   95.980003   94.705002   95.919998   90257200\n",
       "477  117.180000  118.639999  118.769997  117.290001  117.339996   73604300\n",
       "428  118.330002  114.720001  115.930000  112.800003  115.360001  140150100\n",
       "..          ...         ...         ...         ...         ...        ...\n",
       "98    45.049999   44.950001   45.134998   44.452499   44.915001  146118800\n",
       "476  118.639999  117.589996  119.059998  116.809998  118.639999   74113000\n",
       "322   70.599998   70.000000   72.062500   69.512497   71.762497  194994800\n",
       "382   95.334999   96.262497   96.317497   94.672501   95.752502  125642800\n",
       "365   87.864998   83.312500   86.419998   83.144997   85.747498  138808800\n",
       "\n",
       "[504 rows x 6 columns]"
      ]
     },
     "execution_count": 21,
     "metadata": {},
     "output_type": "execute_result"
    }
   ],
   "source": [
    "import numpy as np\n",
    "df_randomized = df_final.sample(frac=1, random_state=123)\n",
    "df_randomized"
   ]
  },
  {
   "cell_type": "code",
   "execution_count": 22,
   "id": "eda99885",
   "metadata": {},
   "outputs": [
    {
     "name": "stdout",
     "output_type": "stream",
     "text": [
      "(403, 6) (101, 6)\n"
     ]
    },
    {
     "name": "stderr",
     "output_type": "stream",
     "text": [
      "/home/ec2-user/anaconda3/envs/python3/lib/python3.10/site-packages/numpy/core/fromnumeric.py:57: FutureWarning: 'DataFrame.swapaxes' is deprecated and will be removed in a future version. Please use 'DataFrame.transpose' instead.\n",
      "  return bound(*args, **kwds)\n"
     ]
    }
   ],
   "source": [
    "train_data, test_data = np.split(df_randomized, [int(0.8*len(df_randomized))])\n",
    "print(train_data.shape, test_data.shape)"
   ]
  },
  {
   "cell_type": "markdown",
   "id": "8db6267b",
   "metadata": {},
   "source": [
    "# S3 Path Setup and Data Upload"
   ]
  },
  {
   "cell_type": "code",
   "execution_count": 23,
   "id": "c3c30f7c",
   "metadata": {},
   "outputs": [
    {
     "name": "stdout",
     "output_type": "stream",
     "text": [
      "s3://stockpricepredictionxgb/xgboost-as-a-built-n-algo/train/train.csv\n",
      "s3://stockpricepredictionxgb/xgboost-as-a-built-n-algo/test/test.csv\n"
     ]
    }
   ],
   "source": [
    "import os\n",
    "\n",
    "prefix = 'xgboost-as-a-built-n-algo'\n",
    "\n",
    "train_csv_path = 's3://{}/{}/{}/{}'.format(bucket_name, prefix, 'train', 'train.csv')\n",
    "test_csv_path = 's3://{}/{}/{}/{}'.format(bucket_name, prefix, 'test', 'test.csv')\n",
    "\n",
    "print(train_csv_path)\n",
    "print(test_csv_path)"
   ]
  },
  {
   "cell_type": "code",
   "execution_count": 24,
   "id": "3804f42d",
   "metadata": {},
   "outputs": [
    {
     "name": "stderr",
     "output_type": "stream",
     "text": [
      "/home/ec2-user/anaconda3/envs/python3/lib/python3.10/site-packages/fsspec/registry.py:279: UserWarning: Your installed version of s3fs is very old and known to cause\n",
      "severe performance issues, see also https://github.com/dask/dask/issues/10276\n",
      "\n",
      "To fix, you should specify a lower version bound on s3fs, or\n",
      "update the current installation.\n",
      "\n",
      "  warnings.warn(s3_msg)\n"
     ]
    }
   ],
   "source": [
    "train_data.to_csv(train_csv_path, index=False, header=False)\n",
    "test_data.to_csv(test_csv_path, index=False, header=False)"
   ]
  },
  {
   "cell_type": "markdown",
   "id": "8e111fdf",
   "metadata": {},
   "source": [
    "# Build XGB Model"
   ]
  },
  {
   "cell_type": "code",
   "execution_count": null,
   "id": "cde368b0",
   "metadata": {},
   "outputs": [],
   "source": []
  },
  {
   "cell_type": "code",
   "execution_count": 26,
   "id": "21a3ee30",
   "metadata": {},
   "outputs": [
    {
     "name": "stderr",
     "output_type": "stream",
     "text": [
      "/home/ec2-user/anaconda3/envs/python3/lib/python3.10/site-packages/sagemaker/base_serializers.py:28: UserWarning: A NumPy version >=1.23.5 and <2.3.0 is required for this version of SciPy (detected version 1.22.4)\n",
      "  import scipy.sparse\n"
     ]
    },
    {
     "name": "stdout",
     "output_type": "stream",
     "text": [
      "sagemaker.config INFO - Not applying SDK defaults from location: /etc/xdg/sagemaker/config.yaml\n",
      "sagemaker.config INFO - Not applying SDK defaults from location: /home/ec2-user/.config/sagemaker/config.yaml\n"
     ]
    }
   ],
   "source": [
    "import sagemaker\n",
    "from sagemaker import image_uris\n",
    "from sagemaker.session import Session\n",
    "from sagemaker.inputs import TrainingInput\n"
   ]
  },
  {
   "cell_type": "markdown",
   "id": "69f6694c",
   "metadata": {},
   "source": [
    "# Find XGBoost Image and build XGBoost container"
   ]
  },
  {
   "cell_type": "code",
   "execution_count": 30,
   "id": "e98b39d5",
   "metadata": {},
   "outputs": [
    {
     "data": {
      "text/plain": [
       "'720646828776.dkr.ecr.ap-south-1.amazonaws.com/sagemaker-xgboost:1.2-2'"
      ]
     },
     "metadata": {},
     "output_type": "display_data"
    }
   ],
   "source": [
    "xgboost_container = image_uris.retrieve('xgboost', boto3.Session().region_name, '1.2-2')\n",
    "display(xgboost_container)"
   ]
  },
  {
   "cell_type": "markdown",
   "id": "f95880c8",
   "metadata": {},
   "source": [
    "# Initialize Hyperparameters"
   ]
  },
  {
   "cell_type": "code",
   "execution_count": 31,
   "id": "9bf93fdf",
   "metadata": {},
   "outputs": [],
   "source": [
    "hyperparameters = {\n",
    "    \"max_depth\":\"5\",\n",
    "    \"eta\":\"0.2\",\n",
    "    \"gamma\":\"4\",\n",
    "    \"min_child_weight\":\"6\",\n",
    "    \"subsample\":\"0.7\",\n",
    "    \"objective\":\"reg:squarederror\",\n",
    "    \"early_stopping_rounds\":10,\n",
    "    \"num_round\":1000\n",
    "}"
   ]
  },
  {
   "cell_type": "markdown",
   "id": "ed65dc96",
   "metadata": {},
   "source": [
    "# output_Path"
   ]
  },
  {
   "cell_type": "code",
   "execution_count": 32,
   "id": "3b742637",
   "metadata": {},
   "outputs": [
    {
     "name": "stdout",
     "output_type": "stream",
     "text": [
      "s3://stockpricepredictionxgb/xgboost-as-a-built-n-algo/output\n"
     ]
    }
   ],
   "source": [
    "output_path = 's3://{}/{}/{}'.format(bucket_name, prefix, 'output')\n",
    "\n",
    "print(output_path)"
   ]
  },
  {
   "cell_type": "markdown",
   "id": "7c09bd0e",
   "metadata": {},
   "source": [
    "# construct sagemaker estimator that calls the xgb container"
   ]
  },
  {
   "cell_type": "code",
   "execution_count": 33,
   "id": "aabd9a3d",
   "metadata": {},
   "outputs": [],
   "source": [
    "estimator = sagemaker.estimator.Estimator(image_uri=xgboost_container,\n",
    "                                         hyperparameters=hyperparameters,\n",
    "                                         role = sagemaker.get_execution_role(),\n",
    "                                         instance_count=1,\n",
    "                                         instance_type='ml.m4.xlarge',\n",
    "                                         volume_size=5,\n",
    "                                         output_path=output_path,\n",
    "                                         use_spot_instances=True,\n",
    "                                         max_run=300,\n",
    "                                         max_wait=600\n",
    "                                         )"
   ]
  },
  {
   "cell_type": "code",
   "execution_count": 34,
   "id": "42a7dc61",
   "metadata": {},
   "outputs": [],
   "source": [
    "content_type = 'csv'\n",
    "train_input = TrainingInput(\"s3://{}/{}/{}/\".format(bucket_name,prefix,'train'),content_type=content_type)\n",
    "test_input = TrainingInput(\"s3://{}/{}/{}/\".format(bucket_name,prefix,'test'),content_type=content_type)"
   ]
  },
  {
   "cell_type": "markdown",
   "id": "efd76d2c",
   "metadata": {},
   "source": [
    "# Execute xgboost training job"
   ]
  },
  {
   "cell_type": "code",
   "execution_count": 35,
   "id": "87b0fa0e",
   "metadata": {},
   "outputs": [
    {
     "name": "stderr",
     "output_type": "stream",
     "text": [
      "INFO:sagemaker:Creating training-job with name: sagemaker-xgboost-2024-09-25-07-20-07-556\n"
     ]
    },
    {
     "name": "stdout",
     "output_type": "stream",
     "text": [
      "2024-09-25 07:20:10 Starting - Starting the training job...\n",
      "2024-09-25 07:20:33 Starting - Preparing the instances for training......\n",
      "2024-09-25 07:21:34 Downloading - Downloading the training image.........\n",
      "2024-09-25 07:22:55 Training - Training image download completed. Training in progress..\u001b[34m[2024-09-25 07:23:07.669 ip-10-0-152-144.ap-south-1.compute.internal:8 INFO utils.py:27] RULE_JOB_STOP_SIGNAL_FILENAME: None\u001b[0m\n",
      "\u001b[34m[2024-09-25:07:23:07:INFO] Imported framework sagemaker_xgboost_container.training\u001b[0m\n",
      "\u001b[34m[2024-09-25:07:23:07:INFO] Failed to parse hyperparameter objective value reg:squarederror to Json.\u001b[0m\n",
      "\u001b[34mReturning the value itself\u001b[0m\n",
      "\u001b[34m[2024-09-25:07:23:07:INFO] No GPUs detected (normal if no gpus installed)\u001b[0m\n",
      "\u001b[34m[2024-09-25:07:23:07:INFO] Running XGBoost Sagemaker in algorithm mode\u001b[0m\n",
      "\u001b[34m[2024-09-25:07:23:07:INFO] Determined delimiter of CSV input is ','\u001b[0m\n",
      "\u001b[34m[2024-09-25:07:23:07:INFO] Determined delimiter of CSV input is ','\u001b[0m\n",
      "\u001b[34m[2024-09-25:07:23:07:INFO] Determined delimiter of CSV input is ','\u001b[0m\n",
      "\u001b[34m[2024-09-25:07:23:07:INFO] Determined delimiter of CSV input is ','\u001b[0m\n",
      "\u001b[34m[2024-09-25:07:23:07:INFO] Single node training.\u001b[0m\n",
      "\u001b[34m[2024-09-25:07:23:07:INFO] Train matrix has 403 rows and 5 columns\u001b[0m\n",
      "\u001b[34m[2024-09-25:07:23:07:INFO] Validation matrix has 101 rows\u001b[0m\n",
      "\u001b[34m[2024-09-25 07:23:07.769 ip-10-0-152-144.ap-south-1.compute.internal:8 INFO json_config.py:91] Creating hook from json_config at /opt/ml/input/config/debughookconfig.json.\u001b[0m\n",
      "\u001b[34m[2024-09-25 07:23:07.770 ip-10-0-152-144.ap-south-1.compute.internal:8 INFO hook.py:201] tensorboard_dir has not been set for the hook. SMDebug will not be exporting tensorboard summaries.\u001b[0m\n",
      "\u001b[34m[2024-09-25 07:23:07.770 ip-10-0-152-144.ap-south-1.compute.internal:8 INFO profiler_config_parser.py:102] User has disabled profiler.\u001b[0m\n",
      "\u001b[34m[2024-09-25 07:23:07.771 ip-10-0-152-144.ap-south-1.compute.internal:8 INFO hook.py:255] Saving to /opt/ml/output/tensors\u001b[0m\n",
      "\u001b[34m[2024-09-25 07:23:07.772 ip-10-0-152-144.ap-south-1.compute.internal:8 INFO state_store.py:77] The checkpoint config file /opt/ml/input/config/checkpointconfig.json does not exist.\u001b[0m\n",
      "\u001b[34m[2024-09-25:07:23:07:INFO] Debug hook created from config\u001b[0m\n",
      "\u001b[34m[0]#011train-rmse:63.00112#011validation-rmse:62.59032\u001b[0m\n",
      "\u001b[34m[2024-09-25 07:23:07.799 ip-10-0-152-144.ap-south-1.compute.internal:8 INFO hook.py:423] Monitoring the collections: metrics\u001b[0m\n",
      "\u001b[34m[2024-09-25 07:23:07.801 ip-10-0-152-144.ap-south-1.compute.internal:8 INFO hook.py:486] Hook is writing from the hook with pid: 8\u001b[0m\n",
      "\u001b[34m[1]#011train-rmse:50.72492#011validation-rmse:50.65975\u001b[0m\n",
      "\u001b[34m[2]#011train-rmse:40.89738#011validation-rmse:41.02247\u001b[0m\n",
      "\u001b[34m[3]#011train-rmse:32.91890#011validation-rmse:33.15461\u001b[0m\n",
      "\u001b[34m[4]#011train-rmse:26.61056#011validation-rmse:26.91866\u001b[0m\n",
      "\u001b[34m[5]#011train-rmse:21.46448#011validation-rmse:21.80041\u001b[0m\n",
      "\u001b[34m[6]#011train-rmse:17.33739#011validation-rmse:17.75434\u001b[0m\n",
      "\u001b[34m[7]#011train-rmse:13.99968#011validation-rmse:14.46122\u001b[0m\n",
      "\u001b[34m[8]#011train-rmse:11.32147#011validation-rmse:11.80035\u001b[0m\n",
      "\u001b[34m[9]#011train-rmse:9.17220#011validation-rmse:9.67721\u001b[0m\n",
      "\u001b[34m[10]#011train-rmse:7.46682#011validation-rmse:8.00288\u001b[0m\n",
      "\u001b[34m[11]#011train-rmse:6.06137#011validation-rmse:6.61192\u001b[0m\n",
      "\u001b[34m[12]#011train-rmse:4.98040#011validation-rmse:5.55876\u001b[0m\n",
      "\u001b[34m[13]#011train-rmse:4.12162#011validation-rmse:4.71865\u001b[0m\n",
      "\u001b[34m[14]#011train-rmse:3.43648#011validation-rmse:4.01075\u001b[0m\n",
      "\u001b[34m[15]#011train-rmse:2.89256#011validation-rmse:3.50759\u001b[0m\n",
      "\u001b[34m[16]#011train-rmse:2.44996#011validation-rmse:3.02530\u001b[0m\n",
      "\u001b[34m[17]#011train-rmse:2.11885#011validation-rmse:2.71661\u001b[0m\n",
      "\u001b[34m[18]#011train-rmse:1.87925#011validation-rmse:2.51161\u001b[0m\n",
      "\u001b[34m[19]#011train-rmse:1.68445#011validation-rmse:2.32853\u001b[0m\n",
      "\u001b[34m[20]#011train-rmse:1.52636#011validation-rmse:2.17184\u001b[0m\n",
      "\u001b[34m[21]#011train-rmse:1.40507#011validation-rmse:2.04166\u001b[0m\n",
      "\u001b[34m[22]#011train-rmse:1.32320#011validation-rmse:1.93273\u001b[0m\n",
      "\u001b[34m[23]#011train-rmse:1.25424#011validation-rmse:1.85934\u001b[0m\n",
      "\u001b[34m[24]#011train-rmse:1.20026#011validation-rmse:1.78308\u001b[0m\n",
      "\u001b[34m[25]#011train-rmse:1.17800#011validation-rmse:1.75910\u001b[0m\n",
      "\u001b[34m[26]#011train-rmse:1.15040#011validation-rmse:1.75383\u001b[0m\n",
      "\u001b[34m[27]#011train-rmse:1.13311#011validation-rmse:1.71937\u001b[0m\n",
      "\u001b[34m[28]#011train-rmse:1.10890#011validation-rmse:1.68935\u001b[0m\n",
      "\u001b[34m[29]#011train-rmse:1.09116#011validation-rmse:1.68046\u001b[0m\n",
      "\u001b[34m[30]#011train-rmse:1.07385#011validation-rmse:1.68206\u001b[0m\n",
      "\u001b[34m[31]#011train-rmse:1.05402#011validation-rmse:1.66547\u001b[0m\n",
      "\u001b[34m[32]#011train-rmse:1.04815#011validation-rmse:1.67206\u001b[0m\n",
      "\u001b[34m[33]#011train-rmse:1.03182#011validation-rmse:1.68381\u001b[0m\n",
      "\u001b[34m[34]#011train-rmse:1.00841#011validation-rmse:1.65952\u001b[0m\n",
      "\u001b[34m[35]#011train-rmse:1.00913#011validation-rmse:1.66620\u001b[0m\n",
      "\u001b[34m[36]#011train-rmse:0.99996#011validation-rmse:1.64769\u001b[0m\n",
      "\u001b[34m[37]#011train-rmse:0.99077#011validation-rmse:1.65477\u001b[0m\n",
      "\u001b[34m[38]#011train-rmse:0.98019#011validation-rmse:1.63435\u001b[0m\n",
      "\u001b[34m[39]#011train-rmse:0.97414#011validation-rmse:1.62587\u001b[0m\n",
      "\u001b[34m[40]#011train-rmse:0.96526#011validation-rmse:1.63441\u001b[0m\n",
      "\u001b[34m[41]#011train-rmse:0.96051#011validation-rmse:1.63395\u001b[0m\n",
      "\u001b[34m[42]#011train-rmse:0.95598#011validation-rmse:1.64006\u001b[0m\n",
      "\u001b[34m[43]#011train-rmse:0.95396#011validation-rmse:1.63259\u001b[0m\n",
      "\u001b[34m[44]#011train-rmse:0.94856#011validation-rmse:1.62757\u001b[0m\n",
      "\u001b[34m[45]#011train-rmse:0.94052#011validation-rmse:1.61388\u001b[0m\n",
      "\u001b[34m[46]#011train-rmse:0.93188#011validation-rmse:1.62145\u001b[0m\n",
      "\u001b[34m[47]#011train-rmse:0.92293#011validation-rmse:1.60335\u001b[0m\n",
      "\u001b[34m[48]#011train-rmse:0.91712#011validation-rmse:1.61095\u001b[0m\n",
      "\u001b[34m[49]#011train-rmse:0.91319#011validation-rmse:1.60370\u001b[0m\n",
      "\u001b[34m[50]#011train-rmse:0.90727#011validation-rmse:1.61754\u001b[0m\n",
      "\u001b[34m[51]#011train-rmse:0.90724#011validation-rmse:1.61743\u001b[0m\n",
      "\u001b[34m[52]#011train-rmse:0.90531#011validation-rmse:1.61468\u001b[0m\n",
      "\u001b[34m[53]#011train-rmse:0.89527#011validation-rmse:1.62136\u001b[0m\n",
      "\u001b[34m[54]#011train-rmse:0.89144#011validation-rmse:1.63419\u001b[0m\n",
      "\u001b[34m[55]#011train-rmse:0.88432#011validation-rmse:1.65339\u001b[0m\n",
      "\u001b[34m[56]#011train-rmse:0.87749#011validation-rmse:1.64636\u001b[0m\n",
      "\u001b[34m[57]#011train-rmse:0.87814#011validation-rmse:1.64867\u001b[0m\n",
      "\n",
      "2024-09-25 07:23:28 Uploading - Uploading generated training model\n",
      "2024-09-25 07:23:28 Completed - Training job completed\n",
      "Training seconds: 134\n",
      "Billable seconds: 60\n",
      "Managed Spot Training savings: 55.2%\n"
     ]
    }
   ],
   "source": [
    "estimator.fit({'train':train_input, 'validation':test_input})"
   ]
  },
  {
   "cell_type": "code",
   "execution_count": null,
   "id": "a2e590b4",
   "metadata": {},
   "outputs": [],
   "source": []
  },
  {
   "cell_type": "markdown",
   "id": "ed367384",
   "metadata": {},
   "source": [
    "# API Endpoint"
   ]
  },
  {
   "cell_type": "code",
   "execution_count": 36,
   "id": "a684d289",
   "metadata": {},
   "outputs": [
    {
     "name": "stderr",
     "output_type": "stream",
     "text": [
      "INFO:sagemaker:Creating model with name: sagemaker-xgboost-2024-09-25-07-58-01-343\n",
      "INFO:sagemaker:Creating endpoint-config with name sagemaker-xgboost-2024-09-25-07-58-01-343\n",
      "INFO:sagemaker:Creating endpoint with name sagemaker-xgboost-2024-09-25-07-58-01-343\n"
     ]
    },
    {
     "name": "stdout",
     "output_type": "stream",
     "text": [
      "------!"
     ]
    }
   ],
   "source": [
    "from sagemaker.serializers import CSVSerializer\n",
    "xgb_predictor = estimator.deploy(initial_instance_count=1, instance_type='ml.m4.xlarge',serializer=CSVSerializer())"
   ]
  },
  {
   "cell_type": "code",
   "execution_count": 37,
   "id": "6554c694",
   "metadata": {},
   "outputs": [
    {
     "data": {
      "text/plain": [
       "'sagemaker-xgboost-2024-09-25-07-58-01-343'"
      ]
     },
     "execution_count": 37,
     "metadata": {},
     "output_type": "execute_result"
    }
   ],
   "source": [
    "xgb_predictor.endpoint_name"
   ]
  },
  {
   "cell_type": "markdown",
   "id": "92845dbc",
   "metadata": {},
   "source": [
    "# Make Predictions using Endpoints"
   ]
  },
  {
   "cell_type": "code",
   "execution_count": 38,
   "id": "f40e1a73",
   "metadata": {},
   "outputs": [
    {
     "name": "stderr",
     "output_type": "stream",
     "text": [
      "[*********************100%***********************]  1 of 1 completed\n"
     ]
    },
    {
     "data": {
      "text/html": [
       "<div>\n",
       "<style scoped>\n",
       "    .dataframe tbody tr th:only-of-type {\n",
       "        vertical-align: middle;\n",
       "    }\n",
       "\n",
       "    .dataframe tbody tr th {\n",
       "        vertical-align: top;\n",
       "    }\n",
       "\n",
       "    .dataframe thead th {\n",
       "        text-align: right;\n",
       "    }\n",
       "</style>\n",
       "<table border=\"1\" class=\"dataframe\">\n",
       "  <thead>\n",
       "    <tr style=\"text-align: right;\">\n",
       "      <th></th>\n",
       "      <th>Date</th>\n",
       "      <th>Open</th>\n",
       "      <th>High</th>\n",
       "      <th>Low</th>\n",
       "      <th>Close</th>\n",
       "      <th>Adj Close</th>\n",
       "      <th>Volume</th>\n",
       "    </tr>\n",
       "  </thead>\n",
       "  <tbody>\n",
       "    <tr>\n",
       "      <th>0</th>\n",
       "      <td>2021-01-04</td>\n",
       "      <td>133.520004</td>\n",
       "      <td>133.610001</td>\n",
       "      <td>126.760002</td>\n",
       "      <td>129.410004</td>\n",
       "      <td>126.683456</td>\n",
       "      <td>143301900</td>\n",
       "    </tr>\n",
       "  </tbody>\n",
       "</table>\n",
       "</div>"
      ],
      "text/plain": [
       "        Date        Open        High         Low       Close   Adj Close  \\\n",
       "0 2021-01-04  133.520004  133.610001  126.760002  129.410004  126.683456   \n",
       "\n",
       "      Volume  \n",
       "0  143301900  "
      ]
     },
     "execution_count": 38,
     "metadata": {},
     "output_type": "execute_result"
    }
   ],
   "source": [
    "start_date = datetime(2021, 1, 4)\n",
    "end_date = datetime(2021, 1, 5)\n",
    "\n",
    "df = yf.download('AAPL', start = start_date, end=end_date)\n",
    "df.reset_index(inplace=True)\n",
    "df"
   ]
  },
  {
   "cell_type": "code",
   "execution_count": 39,
   "id": "22cc2719",
   "metadata": {},
   "outputs": [
    {
     "data": {
      "text/plain": [
       "array([[1.33520004e+02, 1.33610001e+02, 1.26760002e+02, 1.29410004e+02,\n",
       "        1.43301900e+08]])"
      ]
     },
     "execution_count": 39,
     "metadata": {},
     "output_type": "execute_result"
    }
   ],
   "source": [
    "df.drop(axis=1,columns=['Adj Close'],inplace=True)\n",
    "df.drop(axis=1,columns=['Date'],inplace=True)\n",
    "\n",
    "data_features_array = df.values\n",
    "data_features_array"
   ]
  },
  {
   "cell_type": "markdown",
   "id": "1f95206d",
   "metadata": {},
   "source": [
    "# Inference - serialized input by sagemaker func"
   ]
  },
  {
   "cell_type": "code",
   "execution_count": 40,
   "id": "8f98aecf",
   "metadata": {},
   "outputs": [
    {
     "name": "stdout",
     "output_type": "stream",
     "text": [
      "132.41209411621094\n",
      "\n"
     ]
    }
   ],
   "source": [
    "y_pred_fcn = xgb_predictor.predict(data_features_array).decode('utf-8')\n",
    "print(y_pred_fcn)"
   ]
  },
  {
   "cell_type": "code",
   "execution_count": 41,
   "id": "51c09152",
   "metadata": {},
   "outputs": [
    {
     "name": "stdout",
     "output_type": "stream",
     "text": [
      "133.520004,133.610001,126.760002,129.410004,143301900.0\n"
     ]
    }
   ],
   "source": [
    "from sagemaker.serializers import CSVSerializer\n",
    "\n",
    "serialized_input_fcn = CSVSerializer().serialize([[1.33520004e+02, 1.33610001e+02, 1.26760002e+02, 1.29410004e+02,\n",
    "        1.43301900e+08]])\n",
    "print(serialized_input_fcn)\n"
   ]
  },
  {
   "cell_type": "code",
   "execution_count": 42,
   "id": "a1741edd",
   "metadata": {},
   "outputs": [
    {
     "data": {
      "text/plain": [
       "'132.41209411621094\\n'"
      ]
     },
     "execution_count": 42,
     "metadata": {},
     "output_type": "execute_result"
    }
   ],
   "source": [
    "y_pred_fcn"
   ]
  },
  {
   "cell_type": "markdown",
   "id": "43675350",
   "metadata": {},
   "source": [
    "# Inference - serialized input by built-in-func (Lambda func friendly)"
   ]
  },
  {
   "cell_type": "code",
   "execution_count": 48,
   "id": "eeef399e",
   "metadata": {},
   "outputs": [
    {
     "name": "stdout",
     "output_type": "stream",
     "text": [
      "133.520004,133.610001,126.760002,129.410004,143301900.0\n"
     ]
    }
   ],
   "source": [
    "Input = [[1.33520004e+02, 1.33610001e+02, 1.26760002e+02, 1.29410004e+02,\n",
    "        1.43301900e+08],\n",
    "        [1.33520004e+02, 1.33610001e+02, 1.26760002e+02, 1.29410004e+02,\n",
    "        1.43301900e+08],\n",
    "        [1.33520004e+02, 1.33610001e+02, 1.26760002e+02, 1.29410004e+02,\n",
    "        1.43301900e+08]]\n",
    "        \n",
    "Serialized_Input = ','.join(map(str,Input[0]))\n",
    "print(Serialized_Input)"
   ]
  },
  {
   "cell_type": "code",
   "execution_count": 49,
   "id": "952b974a",
   "metadata": {},
   "outputs": [
    {
     "data": {
      "text/plain": [
       "'132.41209411621094\\n'"
      ]
     },
     "execution_count": 49,
     "metadata": {},
     "output_type": "execute_result"
    }
   ],
   "source": [
    "y_pred = xgb_predictor.predict(Serialized_Input).decode('utf-8')\n",
    "y_pred"
   ]
  },
  {
   "cell_type": "code",
   "execution_count": 51,
   "id": "a15b7ab6",
   "metadata": {},
   "outputs": [
    {
     "data": {
      "text/plain": [
       "['132.41209411621094', '132.41209411621094', '132.41209411621094']"
      ]
     },
     "execution_count": 51,
     "metadata": {},
     "output_type": "execute_result"
    }
   ],
   "source": [
    "import boto3\n",
    "ENDPOINT_NAME = 'sagemaker-xgboost-2024-09-25-07-58-01-343'\n",
    "\n",
    "runtime = boto3.client('runtime.sagemaker')\n",
    "\n",
    "def lambda_handler(event,context):\n",
    "    inputs = event['data']\n",
    "    result = []\n",
    "    for input in inputs:\n",
    "        serialized_input = ','.join(map(str, input))\n",
    "        \n",
    "        response = runtime.invoke_endpoint(EndpointName=ENDPOINT_NAME,\n",
    "                                          ContentType='text/csv',\n",
    "                                          Body=serialized_input)\n",
    "        result.append(response['Body'].read().decode().strip())\n",
    "    return result\n",
    "input_json = {'data':\n",
    "             [[1.33520004e+02, 1.33610001e+02, 1.26760002e+02, 1.29410004e+02,\n",
    "        1.43301900e+08],\n",
    "        [1.33520004e+02, 1.33610001e+02, 1.26760002e+02, 1.29410004e+02,\n",
    "        1.43301900e+08],\n",
    "        [1.33520004e+02, 1.33610001e+02, 1.26760002e+02, 1.29410004e+02,\n",
    "        1.43301900e+08]]}\n",
    "result = lambda_handler(input_json,__)\n",
    "result"
   ]
  },
  {
   "cell_type": "markdown",
   "id": "e9f326f2",
   "metadata": {},
   "source": [
    "# Testing API "
   ]
  },
  {
   "cell_type": "code",
   "execution_count": 53,
   "id": "a295306b",
   "metadata": {},
   "outputs": [],
   "source": [
    "import requests\n",
    "API_ENDPOINT = \"https://6dpsfoo4u9.execute-api.ap-south-1.amazonaws.com/xgbmodel\"\n",
    "\n",
    "json = {'data':\n",
    "             [[1.33520004e+02, 1.33610001e+02, 1.26760002e+02, 1.29410004e+02,\n",
    "        1.43301900e+08],\n",
    "        [1.33520004e+02, 1.33610001e+02, 1.26760002e+02, 1.29410004e+02,\n",
    "        1.43301900e+08],\n",
    "        [1.33520004e+02, 1.33610001e+02, 1.26760002e+02, 1.29410004e+02,\n",
    "        1.43301900e+08]]}\n",
    "\n",
    "r = requests.post(url=API_ENDPOINT, json=json)"
   ]
  },
  {
   "cell_type": "code",
   "execution_count": 54,
   "id": "96a821fd",
   "metadata": {},
   "outputs": [
    {
     "name": "stdout",
     "output_type": "stream",
     "text": [
      "Status Code: 200, Response: ['132.41209411621094', '132.41209411621094', '132.41209411621094']\n"
     ]
    }
   ],
   "source": [
    "print(f\"Status Code: {r.status_code}, Response: {r.json()}\")"
   ]
  },
  {
   "cell_type": "markdown",
   "id": "795afdf3",
   "metadata": {},
   "source": [
    "# Close and Terminate"
   ]
  },
  {
   "cell_type": "code",
   "execution_count": null,
   "id": "11e8d3b7",
   "metadata": {},
   "outputs": [],
   "source": [
    "sagemaker.session().delete_endpoint(xgb_predictor.endpoint)"
   ]
  },
  {
   "cell_type": "code",
   "execution_count": null,
   "id": "4f32a530",
   "metadata": {},
   "outputs": [],
   "source": [
    "bucket_to_delete = boto3.resource('s3').Bucket(bucket_name)\n",
    "bucket_to_delete.objects.all().delete()"
   ]
  }
 ],
 "metadata": {
  "kernelspec": {
   "display_name": "conda_python3",
   "language": "python",
   "name": "conda_python3"
  },
  "language_info": {
   "codemirror_mode": {
    "name": "ipython",
    "version": 3
   },
   "file_extension": ".py",
   "mimetype": "text/x-python",
   "name": "python",
   "nbconvert_exporter": "python",
   "pygments_lexer": "ipython3",
   "version": "3.10.14"
  }
 },
 "nbformat": 4,
 "nbformat_minor": 5
}
